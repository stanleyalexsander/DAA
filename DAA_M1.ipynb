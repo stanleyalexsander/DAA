{
  "nbformat": 4,
  "nbformat_minor": 0,
  "metadata": {
    "colab": {
      "provenance": []
    },
    "kernelspec": {
      "name": "python3",
      "display_name": "Python 3"
    },
    "language_info": {
      "name": "python"
    }
  },
  "cells": [
    {
      "cell_type": "code",
      "execution_count": null,
      "metadata": {
        "colab": {
          "base_uri": "https://localhost:8080/"
        },
        "id": "WLxNz5JZVHfs",
        "outputId": "b2cb1fe2-957a-4086-e5dc-1c0b484584b6"
      },
      "outputs": [
        {
          "output_type": "stream",
          "name": "stdout",
          "text": [
            "12\n"
          ]
        }
      ],
      "source": [
        "# Mencari nilai FPB dari 60 dan 24\n",
        "\n",
        "def gcd(m, n):\n",
        "  while n !=0:\n",
        "    r = m % n\n",
        "    m = n\n",
        "    n = r\n",
        "\n",
        "    if n == 0:\n",
        "      return m\n",
        "      break\n",
        "\n",
        "print(gcd(60, 24))"
      ]
    },
    {
      "cell_type": "markdown",
      "source": [
        "1. Cari nilai KPK dari 3 dan 4"
      ],
      "metadata": {
        "id": "tCOyOPzk-0GK"
      }
    },
    {
      "cell_type": "code",
      "source": [
        "# Algoritma:\n",
        "# 1. buat fungsi kpk dengan argumen a dan b\n",
        "# 2. buat kondisi jika a>b maka variabel terbesar = a\n",
        "# 3. buat kondisi jika a<b maka variabel terbesar = b\n",
        "# 4. buat perulangan while\n",
        "# 5. buat kondisi jika terbesar % a = 0 dan terbesar % b = 0, maka buat variabel hasil = terbesar dan perulangan dibreak dan lanjut ke nomor 7\n",
        "# 6. jika kondisi diatas tidak terpenuhi, maka terbesar + 1 dan kembali mengulangi perulangannya\n",
        "# 7. simpan variabel hasil\n",
        "# 8. tentukan isi dari variabel a dan b yaitu 3 dan 4\n",
        "# 9. cetak hasil dari fungsi kpk dengan parameter a dan b\n",
        "\n",
        "# Pesudocode:\n",
        "# fungsi kpk(a, b)\n",
        "# if a>b: terbesar = a\n",
        "# else: terbesar = b\n",
        "# while: if terbesar % a == 0 and terbesar % b == 0: hasil = terbesar; break\n",
        "# else: terbesar + 1\n",
        "# simpan hasil\n",
        "# tampilkan hasil\n",
        "\n",
        "def kpk(a, b):\n",
        "    if a > b:\n",
        "        terbesar = a\n",
        "    else:\n",
        "        terbesar = b\n",
        "\n",
        "    while True:\n",
        "        if terbesar % a == 0 and terbesar % b == 0:\n",
        "            hasil = terbesar\n",
        "            break\n",
        "        terbesar += 1\n",
        "\n",
        "    return hasil\n",
        "\n",
        "a = 3\n",
        "b = 4\n",
        "print(\"KPK dari\", a, \"dan\", b, \"adalah\", kpk(a, b))"
      ],
      "metadata": {
        "colab": {
          "base_uri": "https://localhost:8080/"
        },
        "id": "Ysfe0-2BYvsZ",
        "outputId": "432f98bf-5f81-4dbb-f01c-3073e405087c"
      },
      "execution_count": null,
      "outputs": [
        {
          "output_type": "stream",
          "name": "stdout",
          "text": [
            "KPK dari 3 dan 4 adalah 12\n"
          ]
        }
      ]
    },
    {
      "cell_type": "markdown",
      "source": [
        "2. Fungsi untuk menukar posisi dua variabel x dan y, dengan kasus :\n",
        "Ada 2 buah: manggis dan pisang. Manggis di piring 1, Pisang di piring 2. Piring 3 kosong."
      ],
      "metadata": {
        "id": "4TmUROR2-WRa"
      }
    },
    {
      "cell_type": "code",
      "source": [
        "# Algoritma:\n",
        "# 1. buat fungsi menukar dengan argumen x dan y\n",
        "# 2. inisialisasi list dengan variabel piring dengan x, y, dan kosong\n",
        "# 3. buat perulangan 0 sampai total index di variabel piring\n",
        "# 4. isi variabel piring dengan index 2 dengan x\n",
        "# 5. isi variabel piring dengan index 0 dengan y\n",
        "# 6. isi variabel piring dengan index 1 dengan x\n",
        "# 7. isi variabel piring dengan index 2 dengan kosong\n",
        "# 8. tampilkan isi variabel piring\n",
        "\n",
        "# Pseudocode:\n",
        "# fungsi menukar(x, y)\n",
        "# piring = [x, y, \"\"]\n",
        "# for i dari 0 sampai jumlah index piring\n",
        "# piring[2] = x\n",
        "# piring[0] = y\n",
        "# piring[1] = x\n",
        "# piring[2] = \"\"\n",
        "# tampilkan piring\n",
        "\n",
        "def menukar(x, y):\n",
        "  piring = [x, y, \"\"]\n",
        "  for i in range(len(piring)):\n",
        "    piring[2] = x\n",
        "    piring[0] = y\n",
        "    piring[1] = x\n",
        "    piring[2] = \"\"\n",
        "\n",
        "    print(\"piring\", i+1, \"=\", str(piring[i]))\n",
        "\n",
        "\n",
        "x = \"manggis\"\n",
        "y = \"pisang\"\n",
        "\n",
        "print(\"piring 1 =\", x)\n",
        "print(\"piring 2 =\", y)\n",
        "print(\"piring 3 = \")\n",
        "\n",
        "print(\"\\nHasil penukaran:\")\n",
        "\n",
        "menukar(x, y)"
      ],
      "metadata": {
        "colab": {
          "base_uri": "https://localhost:8080/"
        },
        "id": "9177JS4j-XeQ",
        "outputId": "bb967d01-e730-48a9-d333-14286931a22d"
      },
      "execution_count": null,
      "outputs": [
        {
          "output_type": "stream",
          "name": "stdout",
          "text": [
            "piring 1 = manggis\n",
            "piring 2 = pisang\n",
            "piring 3 = \n",
            "\n",
            "Hasil penukaran:\n",
            "piring 1 = pisang\n",
            "piring 2 = manggis\n",
            "piring 3 = \n"
          ]
        }
      ]
    },
    {
      "cell_type": "markdown",
      "source": [
        "Diketahui sebuah segitiga memiliki ukuran sebagai berikut:\n",
        "Alas 25\n",
        "Tinggi 30\n",
        "Hitung luas dari segitiga tersebut."
      ],
      "metadata": {
        "id": "kOT8_KBcEK9J"
      }
    },
    {
      "cell_type": "code",
      "source": [
        "# Algoritma:\n",
        "# 1. Buat fungsi luas segitiga dengan argumen alas dan tinggi\n",
        "# 2. Mengembalikan nilai dengan rumus luas segitiga yaitu 0,5 x alas x tinggi\n",
        "# 3. Buat variabel alas dengan nilai 25\n",
        "# 4. Buat variabel tinggi dengan nilai 30\n",
        "# 5. Tampilkan fungsi dengan mengisi argumen alas dan tinggi\n",
        "\n",
        "# Pseudocode:\n",
        "# fungsi luas_segitiga(alas, tinggi)\n",
        "# return 0.5*alas*tinggi\n",
        "# alas = 25\n",
        "# tinggi = 30\n",
        "# tampilkan luas_segitiga\n",
        "\n",
        "def luas_segitiga(alas, tinggi):\n",
        "  return 0.5*alas*tinggi\n",
        "\n",
        "alas = 25\n",
        "tinggi = 30\n",
        "print(\"Alas =\", alas, \"\\nTinggi =\", tinggi, \"\\nLuas = \", luas_segitiga(alas, tinggi))"
      ],
      "metadata": {
        "colab": {
          "base_uri": "https://localhost:8080/"
        },
        "id": "AcTZ2bx6EMGL",
        "outputId": "9082436c-0abd-4add-9664-208c18122aff"
      },
      "execution_count": null,
      "outputs": [
        {
          "output_type": "stream",
          "name": "stdout",
          "text": [
            "Alas = 25 \n",
            "Tinggi = 30 \n",
            "Luas =  375.0\n"
          ]
        }
      ]
    },
    {
      "cell_type": "markdown",
      "source": [
        "Tentukan algoritma dan pseudocode luas jajar genjang\n",
        "    (panjang = 5, tinggi = 3)"
      ],
      "metadata": {
        "id": "gNF9LeX6FNFm"
      }
    },
    {
      "cell_type": "code",
      "source": [
        "# Algoritma:\n",
        "# 1. Buat fungsi luas jajargenjang dengan argumen alas dan tinggi\n",
        "# 2. Mengembalikan nilai dengan rumus luas jajargenjang yaitu alas x tinggi\n",
        "# 3. Buat variabel alas dengan nilai 5\n",
        "# 4. Buat variabel tinggi dengan nilai 3\n",
        "# 5. Tampilkan fungsi dengan mengisi argumen alas dan tinggi\n",
        "\n",
        "# Pseudocode:\n",
        "# fungsi luas_jajargenjang(alas,tinggi)\n",
        "# return alas*tinggi\n",
        "# alas = 5\n",
        "# tinggi = 3\n",
        "# tampilkan luas_jajargenjang\n",
        "\n",
        "def luas_jajargenjang(alas, tinggi):\n",
        "  return alas*tinggi\n",
        "\n",
        "alas = 5\n",
        "tinggi = 3\n",
        "print(\"Alas =\", alas, \"\\nTinggi =\", tinggi, \"\\nLuas = \", luas_jajargenjang(alas, tinggi))"
      ],
      "metadata": {
        "colab": {
          "base_uri": "https://localhost:8080/"
        },
        "id": "yDIwuoVHFN4-",
        "outputId": "8fa66e8e-9ed5-4c18-ddda-deb38aa0109c"
      },
      "execution_count": null,
      "outputs": [
        {
          "output_type": "stream",
          "name": "stdout",
          "text": [
            "Alas = 5 \n",
            "Tinggi = 3 \n",
            "Luas =  15\n"
          ]
        }
      ]
    },
    {
      "cell_type": "markdown",
      "source": [
        "Tentukan algoritma dan pseudocode volume tabung (jari-jari = 3, tinggi = 5)"
      ],
      "metadata": {
        "id": "0Iaa4PrQFerD"
      }
    },
    {
      "cell_type": "code",
      "source": [
        "# Algoritma:\n",
        "# 1. Import library math\n",
        "# 2. Buat fungsi volume tabung dengan argumen r dan t\n",
        "# 3. mengembalikan nilai dengan rumus volume tabung yaitu pi x r^2 x t\n",
        "# 4. Buat variabel jari jari dengan nilai 3\n",
        "# 5. Buat variabel tinggi dengan nilai 5\n",
        "# 6. Tampilkan fungsi dengan mengisi argumen r dan t\n",
        "\n",
        "# Pseudocode\n",
        "# import math\n",
        "# fungsi volume_tabung(r, t)\n",
        "# return pi*r**2*t\n",
        "# jari_jari = 3\n",
        "# tinggi = 5\n",
        "# tampilkan volume_tabung\n",
        "\n",
        "import math\n",
        "\n",
        "def volume_tabung(r, t):\n",
        "  return math.pi*r**2*t\n",
        "\n",
        "jari_jari = 3\n",
        "tinggi = 5\n",
        "print(\"Jari-jari =\", jari_jari, \"\\nTinggi =\", tinggi, \"\\nLuas = \", volume_tabung(jari_jari, tinggi))"
      ],
      "metadata": {
        "colab": {
          "base_uri": "https://localhost:8080/"
        },
        "id": "EnZM4H18FfEp",
        "outputId": "3f5894cc-30fd-4342-d536-a46d7e511696"
      },
      "execution_count": 6,
      "outputs": [
        {
          "output_type": "stream",
          "name": "stdout",
          "text": [
            "Jari-jari = 3 \n",
            "Tinggi = 5 \n",
            "Luas =  141.3716694115407\n"
          ]
        }
      ]
    },
    {
      "cell_type": "markdown",
      "source": [
        "Tentukan algoritma dan pseudocode volume kerucut\n",
        "\n",
        "   (diameter = 5, tinggi = 4)"
      ],
      "metadata": {
        "id": "PuieiBCOF_kq"
      }
    },
    {
      "cell_type": "code",
      "source": [
        "# Algoritma:\n",
        "# 1. import library math\n",
        "# 2. Buat fungsi volume kerucut dengan argumen d dan t\n",
        "# 3. Buat variabel r untuk jari-jari dengan nilai d/2 atau diameter / 2\n",
        "# 4. mengembalikan nilai dengan rumus volume kerucut yaitu 1/3 x pi x r^2 x t\n",
        "# 5. Buat variabel diameter dengan nilai 5\n",
        "# 6. Buat variabel tinggi dengan nilai 4\n",
        "# 7. Tampilkan fungsi dengan mengisi argumen d dan t\n",
        "\n",
        "# Pseudocode:\n",
        "# import math\n",
        "# fungsi volume_kerucut(d,t)\n",
        "# r = d/2\n",
        "# return 1/3*pi*r**2*t\n",
        "# diameter = 5\n",
        "# tinggi = 4\n",
        "# tampilkan volume_kerucut\n",
        "\n",
        "import math\n",
        "\n",
        "def volume_kerucut(d, t):\n",
        "  r = d/2\n",
        "  return 1/3*math.pi*r**2*t\n",
        "\n",
        "diameter = 5\n",
        "tinggi = 4\n",
        "print(\"Diameter =\", diameter, \"\\nTinggi =\", tinggi, \"\\nVolume = \", volume_kerucut(diameter, tinggi))"
      ],
      "metadata": {
        "colab": {
          "base_uri": "https://localhost:8080/"
        },
        "id": "g-gtzdgDF_-1",
        "outputId": "2272b43a-238c-49d8-cfee-bde5670862d3"
      },
      "execution_count": 5,
      "outputs": [
        {
          "output_type": "stream",
          "name": "stdout",
          "text": [
            "Diameter = 5 \n",
            "Tinggi = 4 \n",
            "Volume =  26.17993877991494\n"
          ]
        }
      ]
    }
  ]
}