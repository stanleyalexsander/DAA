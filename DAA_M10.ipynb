{
  "nbformat": 4,
  "nbformat_minor": 0,
  "metadata": {
    "colab": {
      "provenance": []
    },
    "kernelspec": {
      "name": "python3",
      "display_name": "Python 3"
    },
    "language_info": {
      "name": "python"
    }
  },
  "cells": [
    {
      "cell_type": "code",
      "execution_count": 24,
      "metadata": {
        "colab": {
          "base_uri": "https://localhost:8080/"
        },
        "id": "wrlEnqfdsV-Y",
        "outputId": "bb4bbee1-33ab-47e2-a6b1-a462a8f2e8bb"
      },
      "outputs": [
        {
          "output_type": "stream",
          "name": "stdout",
          "text": [
            "Requirement already satisfied: pulp in /usr/local/lib/python3.10/dist-packages (2.7.0)\n"
          ]
        }
      ],
      "source": [
        "pip install pulp"
      ]
    },
    {
      "cell_type": "code",
      "source": [
        "import pulp\n",
        "\n",
        "# Instantiate our problem class\n",
        "model = pulp.LpProblem(\"ProfitMaximisingProblem\", pulp.LpMaximize)\n",
        "\n",
        "A = pulp.LpVariable(\"A\", lowBound=0, cat=\"Integer\")\n",
        "B = pulp.LpVariable(\"B\", lowBound=0, cat=\"Integer\")\n",
        "\n",
        "# Objective function\n",
        "model += 4200 * A + 2800 * B, \"Profit\"\n",
        "# Constraints\n",
        "model += 3 * A + 2 * B <= 20\n",
        "model += 4 * A + 3 * B <= 30\n",
        "model += 4 * A + 3 * B <= 44\n",
        "\n",
        "# Solve our problem\n",
        "model.solve()\n",
        "pulp.LpStatus[model.status]\n",
        "\n",
        "# Print our decision variable values\n",
        "print(A.varValue)\n",
        "print(B.varValue)\n",
        "\n",
        "# Print our objective function value\n",
        "print(pulp.value(model.objective))"
      ],
      "metadata": {
        "colab": {
          "base_uri": "https://localhost:8080/"
        },
        "id": "-TJ98KmvsZrr",
        "outputId": "de4320a0-22f8-4b8b-a900-65428955bf7b"
      },
      "execution_count": 35,
      "outputs": [
        {
          "output_type": "stream",
          "name": "stdout",
          "text": [
            "6.0\n",
            "1.0\n",
            "28000.0\n"
          ]
        }
      ]
    },
    {
      "cell_type": "code",
      "source": [
        "# 4x + 3y = 34\n",
        "\n",
        "# Membuat objek masalah optimasi\n",
        "model = pulp.LpProblem(name=\"Pemecahan_Persamaan\", sense=pulp.LpMinimize)\n",
        "\n",
        "#Membuat variable x dan y\n",
        "x = pulp.LpVariable(name=\"x\")\n",
        "y = pulp.LpVariable(name=\"y\")\n",
        "\n",
        "# Menambahkan Batasan\n",
        "model += 4 * x + 3 * y == 34\n",
        "\n",
        "# Menyelesaikan Masalah\n",
        "model.solve()\n",
        "\n",
        "# Menampilkan Hasil\n",
        "print(\"Status:\", model.status)\n",
        "print(\"Nilai x =\", x.varValue)\n",
        "print(\"Nilai y =\", y.varValue)"
      ],
      "metadata": {
        "colab": {
          "base_uri": "https://localhost:8080/"
        },
        "id": "qenqbMsSzjKC",
        "outputId": "90a24b38-1eef-4fe2-f977-c37ec929d095"
      },
      "execution_count": 39,
      "outputs": [
        {
          "output_type": "stream",
          "name": "stdout",
          "text": [
            "Status: 1\n",
            "Nilai x = 8.5\n",
            "Nilai y = 0.0\n"
          ]
        }
      ]
    },
    {
      "cell_type": "code",
      "source": [
        "# 5x + y = 37\n",
        "\n",
        "# Membuat objek masalah optimasi\n",
        "model = pulp.LpProblem(name=\"Pemecahan_Persamaan\", sense=pulp.LpMinimize)\n",
        "\n",
        "#Membuat variable x dan y\n",
        "x = pulp.LpVariable(name=\"x\")\n",
        "y = pulp.LpVariable(name=\"y\")\n",
        "\n",
        "# Menambahkan Batasan\n",
        "model += 5 * x + y == 37\n",
        "\n",
        "# Menyelesaikan Masalah\n",
        "model.solve()\n",
        "\n",
        "# Menampilkan Hasil\n",
        "print(\"Status:\", model.status)\n",
        "print(\"Nilai x =\", x.varValue)\n",
        "print(\"Nilai y =\", y.varValue)"
      ],
      "metadata": {
        "colab": {
          "base_uri": "https://localhost:8080/"
        },
        "id": "gFufGzw30Rh5",
        "outputId": "fb3eb49a-8197-4949-a1ca-96a098140a5b"
      },
      "execution_count": 46,
      "outputs": [
        {
          "output_type": "stream",
          "name": "stdout",
          "text": [
            "Status: 1\n",
            "Nilai x = 7.4\n",
            "Nilai y = 0.0\n"
          ]
        }
      ]
    },
    {
      "cell_type": "code",
      "source": [
        "# Latihan Soal Cerita 1\n",
        "\n",
        "model = pulp.LpProblem(\"ProfitMaximisingProblem\", pulp.LpMaximize)\n",
        "P = pulp.LpVariable('X', lowBound=0, cat='Integer')\n",
        "B = pulp.LpVariable('Y', lowBound=0, cat='Integer')\n",
        "\n",
        "model += 3 * P + 4 * B == 11000\n",
        "model += 1 * P + 7 * B == 15000\n",
        "model += 2 * P + 6 * B, 'Hasil'\n",
        "\n",
        "model.solve()\n",
        "pulp.LpStatus[model.status]\n",
        "\n",
        "print(\"P =\", P.varValue)\n",
        "print(\"B =\", B.varValue)\n",
        "print(\"2P + 6B =\", pulp.value(model.objective))"
      ],
      "metadata": {
        "colab": {
          "base_uri": "https://localhost:8080/"
        },
        "id": "97zHVxR-381F",
        "outputId": "327fa104-9e9b-4eee-eef5-54d223683668"
      },
      "execution_count": 53,
      "outputs": [
        {
          "output_type": "stream",
          "name": "stdout",
          "text": [
            "P = 1000.0\n",
            "B = 2000.0\n",
            "2P + 6B = 14000.0\n"
          ]
        }
      ]
    },
    {
      "cell_type": "code",
      "source": [
        "# Latihan Soal Cerita 2\n",
        "\n",
        "model = pulp.LpProblem(\"KelilingPersegiPanjang\", pulp.LpMaximize)\n",
        "X = pulp.LpVariable('X', lowBound=0, cat='Integer')\n",
        "Y = pulp.LpVariable('Y', lowBound=0, cat='Integer')\n",
        "\n",
        "model += 2 * X + 2 * Y, 'Keliling'\n",
        "\n",
        "model += 2 * X + 2 * Y == 44\n",
        "model += 2 * X + 2 * (X - 6) == 44\n",
        "\n",
        "model.solve()\n",
        "pulp.LpStatus[model.status]\n",
        "\n",
        "print(\"Panjang =\", X.varValue)\n",
        "print(\"Lebar =\", Y.varValue)\n",
        "print(\"Keliling =\", pulp.value(model.objective))"
      ],
      "metadata": {
        "colab": {
          "base_uri": "https://localhost:8080/"
        },
        "id": "RBMVuaG-7bVm",
        "outputId": "ccd5e04a-e692-4e63-f5d6-18fbb54106da"
      },
      "execution_count": 57,
      "outputs": [
        {
          "output_type": "stream",
          "name": "stdout",
          "text": [
            "Panjang = 14.0\n",
            "Lebar = 8.0\n",
            "Keliling = 44.0\n"
          ]
        }
      ]
    },
    {
      "cell_type": "code",
      "source": [
        "# Import required ilbraries\n",
        "import numpy as np\n",
        "from scipy.optimize import linprog\n",
        "\n",
        "# Set the inequality constraints matrix\n",
        "# Note: the inequality constraints must be in the form of <=\n",
        "A = np.array([[1, 0], [2, 3], [1, 1], [-1, 0], [0, -1]])\n",
        "\n",
        "# Set the inequality constraints vector\n",
        "b = np.array([16, 19, 8, 0, 0])\n",
        "\n",
        "# Set the coefficients of the linear objective function vector\n",
        "# Note: when maximizing, change the signs of the c vector coefficient\n",
        "c = np.array([-5, -7])\n",
        "\n",
        "# Solve linear programming problem\n",
        "res = linprog(c, A_ub=A, b_ub=b)\n",
        "\n",
        "# Print results\n",
        "print(\"Optima value:\", round(res.fun*-1, ndigits=2),\n",
        "      \"\\nx values:\", res.x,\n",
        "      \"\\nNumber of iterations performed:\", res.nit,\n",
        "      \"\\nStatus:\", res.message)"
      ],
      "metadata": {
        "colab": {
          "base_uri": "https://localhost:8080/"
        },
        "id": "qgQFaE2o8Zlk",
        "outputId": "e8871f4f-6408-467b-e876-ceeb8cee54aa"
      },
      "execution_count": 61,
      "outputs": [
        {
          "output_type": "stream",
          "name": "stdout",
          "text": [
            "Optima value: 46.0 \n",
            "x values: [5. 3.] \n",
            "Number of iterations performed: 3 \n",
            "Status: Optimization terminated successfully. (HiGHS Status 7: Optimal)\n"
          ]
        }
      ]
    },
    {
      "cell_type": "code",
      "source": [
        "# 1. Impor modul yang diperlukan dari SciPy\n",
        "from scipy.optimize import linprog\n",
        "\n",
        "# 2. Tentukan koefisien fungsi tujuan dan matriks batasan\n",
        "\n",
        "# Koefisien fungsi tujuan (z = 5x1 + 7x2)\n",
        "c = [-5, -7] # Karena kita ingin \"maksimalkan\" -5x1 -7x2, maka perlu diubah menjadi \"-5\" dan \"-7\".\n",
        "\n",
        "# Koefisien matriks batasan\n",
        "A = [\n",
        "    [1, 0], # 1x1 + 0x2 <= 16\n",
        "    [2, 3], # 2x1 + 3x2 <= 19\n",
        "    [1, 1]  # 1x1 + 1x2 <= 8\n",
        "]\n",
        "\n",
        "# Batasan kanan (rhs) dari masing-masing batasan\n",
        "b = [16, 19, 8]\n",
        "\n",
        "# 3. tentukan batasan variabel x1 dan x2 sebagai variabel non-negatif\n",
        "x1_bounds = (0, None) # x1 >= 0\n",
        "x2_bounds = (0, None) # x2 >= 0\n",
        "\n",
        "# 4. Gunakan linprog untuk menyelesaikan masalah pemrograman linier\n",
        "result = linprog(c, A_ub=A, b_ub=b, bounds=[x1_bounds, x2_bounds], method=\"highs\")\n",
        "\n",
        "# 5. Tampilkan hasilnya\n",
        "# Hasil optimasi\n",
        "print(\"Optimal Solution:\")\n",
        "print(\"x1 =\", result.x[0])\n",
        "print(\"x2 =\", result.x[1])\n",
        "print(\"Max Z =\", -result.fun) # Karena tujuannya adalah memaksimalkan -Z"
      ],
      "metadata": {
        "colab": {
          "base_uri": "https://localhost:8080/"
        },
        "id": "asssa_fxAEOt",
        "outputId": "2e6aa1f2-6571-48d4-963b-25cb187762db"
      },
      "execution_count": 62,
      "outputs": [
        {
          "output_type": "stream",
          "name": "stdout",
          "text": [
            "Optimal Solution:\n",
            "x1 = 5.0\n",
            "x2 = 3.0\n",
            "Max Z = 46.0\n"
          ]
        }
      ]
    },
    {
      "cell_type": "code",
      "source": [
        "# Latihan 1\n",
        "\n",
        "# 1. Impor modul yang diperlukan dari SciPy\n",
        "from scipy.optimize import linprog\n",
        "\n",
        "# 2. Tentukan koefisien fungsi tujuan dan matriks batasan\n",
        "\n",
        "c = [-4, -12]\n",
        "\n",
        "# Koefisien matriks batasan\n",
        "A = [\n",
        "    [4, 12] # 4x + 12y <= 28\n",
        "]\n",
        "\n",
        "# Batasan kanan (rhs) dari masing-masing batasan\n",
        "b = [28]\n",
        "\n",
        "# 3. tentukan batasan variabel x1 dan x2 sebagai variabel non-negatif\n",
        "x1_bounds = (0, None) # x >= 0\n",
        "x2_bounds = (0, None) # y >= 0\n",
        "\n",
        "# 4. Gunakan linprog untuk menyelesaikan masalah pemrograman linier\n",
        "result = linprog(c, A_ub=A, b_ub=b, bounds=[x1_bounds, x2_bounds], method=\"highs\")\n",
        "\n",
        "# 5. Tampilkan hasilnya\n",
        "# Hasil optimasi\n",
        "print(\"Optimal Solution:\")\n",
        "print(\"x =\", result.x[0])\n",
        "print(\"y =\", result.x[1])\n",
        "print(\"Max Z =\", -result.fun) # Karena tujuannya adalah memaksimalkan -Z"
      ],
      "metadata": {
        "colab": {
          "base_uri": "https://localhost:8080/"
        },
        "id": "7g-ho4hVB8tb",
        "outputId": "4f032bfe-5386-48ab-d736-ad33d899a0fb"
      },
      "execution_count": 64,
      "outputs": [
        {
          "output_type": "stream",
          "name": "stdout",
          "text": [
            "Optimal Solution:\n",
            "x = 7.0\n",
            "y = 0.0\n",
            "Max Z = 28.0\n"
          ]
        }
      ]
    },
    {
      "cell_type": "code",
      "source": [
        "# Latihan 2\n",
        "\n",
        "# 1. Impor modul yang diperlukan dari SciPy\n",
        "from scipy.optimize import linprog\n",
        "\n",
        "# 2. Tentukan koefisien fungsi tujuan dan matriks batasan\n",
        "\n",
        "c = [-2, -1]\n",
        "\n",
        "# Koefisien matriks batasan\n",
        "A = [\n",
        "    [2, 1] # 2x + y <= 21\n",
        "]\n",
        "\n",
        "# Batasan kanan (rhs) dari masing-masing batasan\n",
        "b = [21]\n",
        "\n",
        "# 3. tentukan batasan variabel x1 dan x2 sebagai variabel non-negatif\n",
        "x1_bounds = (0, None) # x >= 0\n",
        "x2_bounds = (0, None) # y >= 0\n",
        "\n",
        "# 4. Gunakan linprog untuk menyelesaikan masalah pemrograman linier\n",
        "result = linprog(c, A_ub=A, b_ub=b, bounds=[x1_bounds, x2_bounds], method=\"highs\")\n",
        "\n",
        "# 5. Tampilkan hasilnya\n",
        "# Hasil optimasi\n",
        "print(\"Optimal Solution:\")\n",
        "print(\"x =\", result.x[0])\n",
        "print(\"y =\", result.x[1])\n",
        "print(\"Max Z =\", -result.fun) # Karena tujuannya adalah memaksimalkan -Z"
      ],
      "metadata": {
        "colab": {
          "base_uri": "https://localhost:8080/"
        },
        "id": "eSudFnk8GIau",
        "outputId": "d60c8921-f3cb-475e-8056-05d9550929b8"
      },
      "execution_count": 65,
      "outputs": [
        {
          "output_type": "stream",
          "name": "stdout",
          "text": [
            "Optimal Solution:\n",
            "x = 10.5\n",
            "y = 0.0\n",
            "Max Z = 21.0\n"
          ]
        }
      ]
    },
    {
      "cell_type": "code",
      "source": [
        "# Latihan 3\n",
        "\n",
        "# 1. Impor modul yang diperlukan dari SciPy\n",
        "from scipy.optimize import linprog\n",
        "\n",
        "# 2. Tentukan koefisien fungsi tujuan dan matriks batasan\n",
        "\n",
        "c = [0, 0]\n",
        "\n",
        "# Koefisien matriks batasan\n",
        "A = [\n",
        "    [1, 1], # x + y = 16\n",
        "    [3, 4]  # 3x + 4y = 55\n",
        "]\n",
        "\n",
        "# Batasan kanan (rhs) dari masing-masing batasan\n",
        "b = [16, 55]\n",
        "\n",
        "# 3. tentukan batasan variabel x1 dan x2 sebagai variabel non-negatif\n",
        "x1_bounds = (0, None) # x >= 0\n",
        "x2_bounds = (0, None) # y >= 0\n",
        "\n",
        "# 4. Gunakan linprog untuk menyelesaikan masalah pemrograman linier\n",
        "result = linprog(c, A_eq=A, b_eq=b, bounds=[x1_bounds, x2_bounds], method=\"highs\")\n",
        "\n",
        "# 5. Tampilkan hasilnya\n",
        "# Hasil optimasi\n",
        "print(\"Optimal Solution:\")\n",
        "print(\"x =\", result.x[0])\n",
        "print(\"y =\", result.x[1])"
      ],
      "metadata": {
        "colab": {
          "base_uri": "https://localhost:8080/"
        },
        "id": "2z4SGjs_GUKh",
        "outputId": "a5602732-d408-4d03-c3bd-70b507fbb1cf"
      },
      "execution_count": 71,
      "outputs": [
        {
          "output_type": "stream",
          "name": "stdout",
          "text": [
            "Optimal Solution:\n",
            "x = 9.0\n",
            "y = 7.0\n"
          ]
        }
      ]
    }
  ]
}