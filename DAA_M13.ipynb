{
  "nbformat": 4,
  "nbformat_minor": 0,
  "metadata": {
    "colab": {
      "provenance": []
    },
    "kernelspec": {
      "name": "python3",
      "display_name": "Python 3"
    },
    "language_info": {
      "name": "python"
    }
  },
  "cells": [
    {
      "cell_type": "code",
      "execution_count": 4,
      "metadata": {
        "id": "7sMEFIsqptTv"
      },
      "outputs": [],
      "source": [
        "def bfs(graph, start):\n",
        "  visited = []\n",
        "  queue = []\n",
        "  queue = [start]\n",
        "  while queue:\n",
        "    node = queue.pop(0)\n",
        "    if node not in visited:\n",
        "      visited.append(node)\n",
        "      neighbours = graph[node]\n",
        "      for neighbour in neighbours:\n",
        "        queue.append(neighbour)\n",
        "  return visited"
      ]
    },
    {
      "cell_type": "code",
      "source": [
        "graph = {'Amin' : ['Wasim', 'Nick', 'Mike'],\n",
        "         'Wasim' : ['Imran', 'Amin'],\n",
        "         'Imran' : ['Wasim', 'Faras'],\n",
        "         'Faras' : ['Imran'],\n",
        "         'Mike' : ['Amin'],\n",
        "         'Nick' : ['Amin']}"
      ],
      "metadata": {
        "id": "LKYnZEaLsg8F"
      },
      "execution_count": 5,
      "outputs": []
    },
    {
      "cell_type": "code",
      "source": [
        "# O Amin ---------------------------\n",
        "# |                |                |\n",
        "# O Wasim       O Nick           O Mike\n",
        "# |\n",
        "# O Imran\n",
        "# |\n",
        "# O Faras\n",
        "\n",
        "bfs(graph, 'Amin')"
      ],
      "metadata": {
        "colab": {
          "base_uri": "https://localhost:8080/"
        },
        "id": "JzeSPYYds4Gc",
        "outputId": "aea55dce-efc7-46b0-a7d8-52bd20dbdc2f"
      },
      "execution_count": 6,
      "outputs": [
        {
          "output_type": "execute_result",
          "data": {
            "text/plain": [
              "['Amin', 'Wasim', 'Nick', 'Mike', 'Imran', 'Faras']"
            ]
          },
          "metadata": {},
          "execution_count": 6
        }
      ]
    },
    {
      "cell_type": "code",
      "source": [
        "bfs(graph, 'Wasim')"
      ],
      "metadata": {
        "colab": {
          "base_uri": "https://localhost:8080/"
        },
        "id": "Qm_y73vUtVfr",
        "outputId": "f7e818b1-0459-48f9-c850-c69a95381796"
      },
      "execution_count": 7,
      "outputs": [
        {
          "output_type": "execute_result",
          "data": {
            "text/plain": [
              "['Wasim', 'Imran', 'Amin', 'Faras', 'Nick', 'Mike']"
            ]
          },
          "metadata": {},
          "execution_count": 7
        }
      ]
    },
    {
      "cell_type": "code",
      "source": [
        "bfs(graph, 'Imran')"
      ],
      "metadata": {
        "colab": {
          "base_uri": "https://localhost:8080/"
        },
        "id": "iz-XhIyqtY-r",
        "outputId": "1aaadf00-9486-4aad-d193-98e9bcb0e6e1"
      },
      "execution_count": 11,
      "outputs": [
        {
          "output_type": "execute_result",
          "data": {
            "text/plain": [
              "['Imran', 'Wasim', 'Faras', 'Amin', 'Nick', 'Mike']"
            ]
          },
          "metadata": {},
          "execution_count": 11
        }
      ]
    },
    {
      "cell_type": "code",
      "source": [
        "bfs(graph, 'Faras')"
      ],
      "metadata": {
        "colab": {
          "base_uri": "https://localhost:8080/"
        },
        "id": "Iqjvf8dmuXAH",
        "outputId": "d24a6860-7b81-45db-c46d-4bf414ac0370"
      },
      "execution_count": 12,
      "outputs": [
        {
          "output_type": "execute_result",
          "data": {
            "text/plain": [
              "['Faras', 'Imran', 'Wasim', 'Amin', 'Nick', 'Mike']"
            ]
          },
          "metadata": {},
          "execution_count": 12
        }
      ]
    },
    {
      "cell_type": "code",
      "source": [
        "bfs(graph, 'Nick')"
      ],
      "metadata": {
        "colab": {
          "base_uri": "https://localhost:8080/"
        },
        "id": "AeBZmXbIwPe7",
        "outputId": "0479e6c0-5cb4-4508-fca8-097e06716c87"
      },
      "execution_count": 13,
      "outputs": [
        {
          "output_type": "execute_result",
          "data": {
            "text/plain": [
              "['Nick', 'Amin', 'Wasim', 'Mike', 'Imran', 'Faras']"
            ]
          },
          "metadata": {},
          "execution_count": 13
        }
      ]
    },
    {
      "cell_type": "code",
      "source": [
        "bfs(graph, 'Mike')"
      ],
      "metadata": {
        "colab": {
          "base_uri": "https://localhost:8080/"
        },
        "id": "rjQZ9219wSzS",
        "outputId": "2deea16d-3cd7-4013-ce08-06307301cf17"
      },
      "execution_count": 14,
      "outputs": [
        {
          "output_type": "execute_result",
          "data": {
            "text/plain": [
              "['Mike', 'Amin', 'Wasim', 'Nick', 'Imran', 'Faras']"
            ]
          },
          "metadata": {},
          "execution_count": 14
        }
      ]
    },
    {
      "cell_type": "code",
      "source": [
        "graph2 = {'Rektor' : ['Warek 1', 'Warek 2'],\n",
        "          'Warek 1' : ['Rektor'],\n",
        "          'Warek 2' : ['Rektor', 'Kaprodi 1', 'Kaprodi 2', 'Kaprodi 3'],\n",
        "          'Kaprodi 1' : ['Warek 2', 'Dosen A', 'Dosen B', 'Dosen C'],\n",
        "          'Dosen A' : ['Kaprodi 1'],\n",
        "          'Dosen B' : ['Kaprodi 1'],\n",
        "          'Dosen C' : ['Kaprodi 1'],\n",
        "          'Kaprodi 2' : ['Warek 2', 'Dosen D', 'Dosen E'],\n",
        "          'Dosen D' : ['Kaprodi 2'],\n",
        "          'Dosen E' : ['Kaprodi 2'],\n",
        "          'Kaprodi 3' : ['Warek 2', 'Dosen F', 'Dosen G'],\n",
        "          'Dosen F' : ['Kaprodi 3'],\n",
        "          'Dosen G' : ['Kaprodi 3']}"
      ],
      "metadata": {
        "id": "LzSxb687x2Zp"
      },
      "execution_count": 20,
      "outputs": []
    },
    {
      "cell_type": "code",
      "source": [
        "bfs(graph2, 'Rektor')"
      ],
      "metadata": {
        "colab": {
          "base_uri": "https://localhost:8080/"
        },
        "id": "MkqjOYfj0XIs",
        "outputId": "886b4afa-fcd9-4f19-bcdd-de84648047f8"
      },
      "execution_count": 23,
      "outputs": [
        {
          "output_type": "execute_result",
          "data": {
            "text/plain": [
              "['Rektor',\n",
              " 'Warek 1',\n",
              " 'Warek 2',\n",
              " 'Kaprodi 1',\n",
              " 'Kaprodi 2',\n",
              " 'Kaprodi 3',\n",
              " 'Dosen A',\n",
              " 'Dosen B',\n",
              " 'Dosen C',\n",
              " 'Dosen D',\n",
              " 'Dosen E',\n",
              " 'Dosen F',\n",
              " 'Dosen G']"
            ]
          },
          "metadata": {},
          "execution_count": 23
        }
      ]
    },
    {
      "cell_type": "code",
      "source": [
        "bfs(graph2, 'Kaprodi 2')"
      ],
      "metadata": {
        "colab": {
          "base_uri": "https://localhost:8080/"
        },
        "id": "Zx1Qbsn11B3t",
        "outputId": "13effe44-9525-4f45-df69-b5f485480fe5"
      },
      "execution_count": 24,
      "outputs": [
        {
          "output_type": "execute_result",
          "data": {
            "text/plain": [
              "['Kaprodi 2',\n",
              " 'Warek 2',\n",
              " 'Dosen D',\n",
              " 'Dosen E',\n",
              " 'Rektor',\n",
              " 'Kaprodi 1',\n",
              " 'Kaprodi 3',\n",
              " 'Warek 1',\n",
              " 'Dosen A',\n",
              " 'Dosen B',\n",
              " 'Dosen C',\n",
              " 'Dosen F',\n",
              " 'Dosen G']"
            ]
          },
          "metadata": {},
          "execution_count": 24
        }
      ]
    },
    {
      "cell_type": "code",
      "source": [
        "bfs(graph2, 'Warek 1')"
      ],
      "metadata": {
        "colab": {
          "base_uri": "https://localhost:8080/"
        },
        "id": "M6MX8IV91PsW",
        "outputId": "6973a9ec-f456-4ebf-f5d8-e97bd88c99c2"
      },
      "execution_count": 33,
      "outputs": [
        {
          "output_type": "execute_result",
          "data": {
            "text/plain": [
              "['Warek 1',\n",
              " 'Rektor',\n",
              " 'Warek 2',\n",
              " 'Kaprodi 1',\n",
              " 'Kaprodi 2',\n",
              " 'Kaprodi 3',\n",
              " 'Dosen A',\n",
              " 'Dosen B',\n",
              " 'Dosen C',\n",
              " 'Dosen D',\n",
              " 'Dosen E',\n",
              " 'Dosen F',\n",
              " 'Dosen G']"
            ]
          },
          "metadata": {},
          "execution_count": 33
        }
      ]
    },
    {
      "cell_type": "code",
      "source": [
        "bfs(graph2, 'Dosen C')"
      ],
      "metadata": {
        "colab": {
          "base_uri": "https://localhost:8080/"
        },
        "id": "76Jsfe1p2ALn",
        "outputId": "eac89939-ed0c-4a17-f428-d26b6967ddc7"
      },
      "execution_count": 27,
      "outputs": [
        {
          "output_type": "execute_result",
          "data": {
            "text/plain": [
              "['Dosen C',\n",
              " 'Kaprodi 1',\n",
              " 'Warek 2',\n",
              " 'Dosen A',\n",
              " 'Dosen B',\n",
              " 'Rektor',\n",
              " 'Kaprodi 2',\n",
              " 'Kaprodi 3',\n",
              " 'Warek 1',\n",
              " 'Dosen D',\n",
              " 'Dosen E',\n",
              " 'Dosen F',\n",
              " 'Dosen G']"
            ]
          },
          "metadata": {},
          "execution_count": 27
        }
      ]
    },
    {
      "cell_type": "code",
      "source": [
        "graph3 = {'0' : ['9', '7', '11'],\n",
        "          '1' : ['10', '8'],\n",
        "          '2' : ['12', '3'],\n",
        "          '3' : ['2', '4', '7'],\n",
        "          '4' : ['3'],\n",
        "          '5' : ['6'],\n",
        "          '6' : ['5', '7'],\n",
        "          '7' : ['3', '6', '11', '0'],\n",
        "          '8' : ['9', '1', '12'],\n",
        "          '9' : ['10', '8', '0'],\n",
        "          '10' : ['1', '9'],\n",
        "          '11' : ['0', '7'],\n",
        "          '12' : ['8', '2']\n",
        "          }"
      ],
      "metadata": {
        "id": "L1YZPnS32UbF"
      },
      "execution_count": 28,
      "outputs": []
    },
    {
      "cell_type": "code",
      "source": [
        "bfs(graph3, '0')"
      ],
      "metadata": {
        "colab": {
          "base_uri": "https://localhost:8080/"
        },
        "id": "1Gjp8ATM5gHz",
        "outputId": "94a6eef8-437c-4bd5-93ff-fd528ae258a3"
      },
      "execution_count": 29,
      "outputs": [
        {
          "output_type": "execute_result",
          "data": {
            "text/plain": [
              "['0', '9', '7', '11', '10', '8', '3', '6', '1', '12', '2', '4', '5']"
            ]
          },
          "metadata": {},
          "execution_count": 29
        }
      ]
    },
    {
      "cell_type": "code",
      "source": [
        "bfs(graph3, '8')"
      ],
      "metadata": {
        "colab": {
          "base_uri": "https://localhost:8080/"
        },
        "id": "OLSccA7F5nxw",
        "outputId": "374bc2ea-e64f-42b9-8762-90aed10699b9"
      },
      "execution_count": 30,
      "outputs": [
        {
          "output_type": "execute_result",
          "data": {
            "text/plain": [
              "['8', '9', '1', '12', '10', '0', '2', '7', '11', '3', '6', '4', '5']"
            ]
          },
          "metadata": {},
          "execution_count": 30
        }
      ]
    },
    {
      "cell_type": "code",
      "source": [
        "bfs(graph3, '6')"
      ],
      "metadata": {
        "colab": {
          "base_uri": "https://localhost:8080/"
        },
        "id": "jdx2ED2i5n2R",
        "outputId": "7c5057a4-90b3-4a4f-b03a-03ccc6d7de5b"
      },
      "execution_count": 31,
      "outputs": [
        {
          "output_type": "execute_result",
          "data": {
            "text/plain": [
              "['6', '5', '7', '3', '11', '0', '2', '4', '9', '12', '10', '8', '1']"
            ]
          },
          "metadata": {},
          "execution_count": 31
        }
      ]
    },
    {
      "cell_type": "code",
      "source": [
        "bfs(graph3, '12')"
      ],
      "metadata": {
        "colab": {
          "base_uri": "https://localhost:8080/"
        },
        "id": "8NdIYEUa7R0T",
        "outputId": "9b786a2b-ec43-4f65-8c69-3c8a5146772a"
      },
      "execution_count": 34,
      "outputs": [
        {
          "output_type": "execute_result",
          "data": {
            "text/plain": [
              "['12', '8', '2', '9', '1', '3', '10', '0', '4', '7', '11', '6', '5']"
            ]
          },
          "metadata": {},
          "execution_count": 34
        }
      ]
    },
    {
      "cell_type": "code",
      "source": [
        "# DEPTH-FIRST SEARCH\n",
        "def dfs(visited, graph, node):\n",
        "  if node not in visited:\n",
        "    print(node)\n",
        "    visited.add(node)\n",
        "    for neighbour in graph[node]:\n",
        "      dfs(visited, graph, neighbour)"
      ],
      "metadata": {
        "id": "um3HUoG6JEKR"
      },
      "execution_count": 35,
      "outputs": []
    },
    {
      "cell_type": "code",
      "source": [
        "visited = set()\n",
        "dfs(visited, graph, 'Amin')"
      ],
      "metadata": {
        "colab": {
          "base_uri": "https://localhost:8080/"
        },
        "id": "wpcgqNeHJTJT",
        "outputId": "466ba5c6-9806-40f1-dc70-ed1a431df056"
      },
      "execution_count": 36,
      "outputs": [
        {
          "output_type": "stream",
          "name": "stdout",
          "text": [
            "Amin\n",
            "Wasim\n",
            "Imran\n",
            "Faras\n",
            "Nick\n",
            "Mike\n"
          ]
        }
      ]
    },
    {
      "cell_type": "code",
      "source": [
        "visited = set()\n",
        "dfs(visited, graph, 'Wasim')"
      ],
      "metadata": {
        "colab": {
          "base_uri": "https://localhost:8080/"
        },
        "id": "sNGpN885JcXw",
        "outputId": "8fbe686d-8c01-40c7-8f89-74ddf8f03535"
      },
      "execution_count": 37,
      "outputs": [
        {
          "output_type": "stream",
          "name": "stdout",
          "text": [
            "Wasim\n",
            "Imran\n",
            "Faras\n",
            "Amin\n",
            "Nick\n",
            "Mike\n"
          ]
        }
      ]
    },
    {
      "cell_type": "code",
      "source": [
        "visited = set()\n",
        "dfs(visited, graph, 'Faras')"
      ],
      "metadata": {
        "colab": {
          "base_uri": "https://localhost:8080/"
        },
        "id": "oxh_fTtaJfVi",
        "outputId": "1c7b6d9b-2519-4c27-fb08-a4427edb37ba"
      },
      "execution_count": 38,
      "outputs": [
        {
          "output_type": "stream",
          "name": "stdout",
          "text": [
            "Faras\n",
            "Imran\n",
            "Wasim\n",
            "Amin\n",
            "Nick\n",
            "Mike\n"
          ]
        }
      ]
    },
    {
      "cell_type": "code",
      "source": [
        "visited = set()\n",
        "dfs(visited, graph, 'Nick')"
      ],
      "metadata": {
        "colab": {
          "base_uri": "https://localhost:8080/"
        },
        "id": "cDyjyG3MJhdo",
        "outputId": "ef204627-46ed-48d1-85dd-7ec7339da503"
      },
      "execution_count": 39,
      "outputs": [
        {
          "output_type": "stream",
          "name": "stdout",
          "text": [
            "Nick\n",
            "Amin\n",
            "Wasim\n",
            "Imran\n",
            "Faras\n",
            "Mike\n"
          ]
        }
      ]
    },
    {
      "cell_type": "code",
      "source": [
        "visited = set()\n",
        "dfs(visited, graph2, 'Rektor')"
      ],
      "metadata": {
        "colab": {
          "base_uri": "https://localhost:8080/"
        },
        "id": "NXjsWX9XKDV4",
        "outputId": "d6c5e481-25bb-435c-c23c-10e894d73813"
      },
      "execution_count": 40,
      "outputs": [
        {
          "output_type": "stream",
          "name": "stdout",
          "text": [
            "Rektor\n",
            "Warek 1\n",
            "Warek 2\n",
            "Kaprodi 1\n",
            "Dosen A\n",
            "Dosen B\n",
            "Dosen C\n",
            "Kaprodi 2\n",
            "Dosen D\n",
            "Dosen E\n",
            "Kaprodi 3\n",
            "Dosen F\n",
            "Dosen G\n"
          ]
        }
      ]
    },
    {
      "cell_type": "code",
      "source": [
        "visited = set()\n",
        "dfs(visited, graph2, 'Dosen B')"
      ],
      "metadata": {
        "colab": {
          "base_uri": "https://localhost:8080/"
        },
        "id": "0RFedyQlLSZn",
        "outputId": "433a3f7a-47b0-41f0-e17c-fa36409e2318"
      },
      "execution_count": 41,
      "outputs": [
        {
          "output_type": "stream",
          "name": "stdout",
          "text": [
            "Dosen B\n",
            "Kaprodi 1\n",
            "Warek 2\n",
            "Rektor\n",
            "Warek 1\n",
            "Kaprodi 2\n",
            "Dosen D\n",
            "Dosen E\n",
            "Kaprodi 3\n",
            "Dosen F\n",
            "Dosen G\n",
            "Dosen A\n",
            "Dosen C\n"
          ]
        }
      ]
    },
    {
      "cell_type": "code",
      "source": [
        "visited = set()\n",
        "dfs(visited, graph3, '0')"
      ],
      "metadata": {
        "colab": {
          "base_uri": "https://localhost:8080/"
        },
        "id": "A6W_FqG0NlNV",
        "outputId": "50678ca1-f639-411b-a5aa-0115c94a8471"
      },
      "execution_count": 42,
      "outputs": [
        {
          "output_type": "stream",
          "name": "stdout",
          "text": [
            "0\n",
            "9\n",
            "10\n",
            "1\n",
            "8\n",
            "12\n",
            "2\n",
            "3\n",
            "4\n",
            "7\n",
            "6\n",
            "5\n",
            "11\n"
          ]
        }
      ]
    }
  ]
}