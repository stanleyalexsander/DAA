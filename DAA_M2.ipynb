{
  "nbformat": 4,
  "nbformat_minor": 0,
  "metadata": {
    "colab": {
      "provenance": []
    },
    "kernelspec": {
      "name": "python3",
      "display_name": "Python 3"
    },
    "language_info": {
      "name": "python"
    }
  },
  "cells": [
    {
      "cell_type": "code",
      "execution_count": null,
      "metadata": {
        "colab": {
          "base_uri": "https://localhost:8080/"
        },
        "id": "DdoI_at4DT2o",
        "outputId": "b834dd03-9dc9-412f-d50b-a7d5394648db"
      },
      "outputs": [
        {
          "output_type": "stream",
          "name": "stdout",
          "text": [
            "1.23.5\n"
          ]
        }
      ],
      "source": [
        "import numpy as np\n",
        "print(np.__version__)"
      ]
    },
    {
      "cell_type": "code",
      "source": [
        "a = [1, 2, 3]\n",
        "b = [4, 5, 6]\n",
        "\n",
        "hasil = a + b\n",
        "\n",
        "print(hasil)"
      ],
      "metadata": {
        "colab": {
          "base_uri": "https://localhost:8080/"
        },
        "id": "nOtYcfLCIlSh",
        "outputId": "4770db26-1615-4246-977e-cee9d68cc1c6"
      },
      "execution_count": null,
      "outputs": [
        {
          "output_type": "stream",
          "name": "stdout",
          "text": [
            "[1, 2, 3, 4, 5, 6]\n"
          ]
        }
      ]
    },
    {
      "cell_type": "code",
      "source": [
        "def add(list_a, list_b):\n",
        "  result = []\n",
        "  for first, second in zip(list_a, list_b):\n",
        "    result.append(first+second)\n",
        "  return result\n",
        "\n",
        "add(a, b)"
      ],
      "metadata": {
        "colab": {
          "base_uri": "https://localhost:8080/"
        },
        "id": "g045IoyCLWv5",
        "outputId": "248b0749-ad75-4d21-9f05-229131017a29"
      },
      "execution_count": null,
      "outputs": [
        {
          "output_type": "execute_result",
          "data": {
            "text/plain": [
              "[5, 7, 9]"
            ]
          },
          "metadata": {},
          "execution_count": 16
        }
      ]
    },
    {
      "cell_type": "code",
      "source": [
        "nilai_siswa = np.array([85, 55, 40, 90])\n",
        "\n",
        "print(nilai_siswa[3])"
      ],
      "metadata": {
        "colab": {
          "base_uri": "https://localhost:8080/"
        },
        "id": "ebWheX_eLwL5",
        "outputId": "6ecb3836-646c-4418-fad9-9a41c383b586"
      },
      "execution_count": null,
      "outputs": [
        {
          "output_type": "stream",
          "name": "stdout",
          "text": [
            "90\n"
          ]
        }
      ]
    },
    {
      "cell_type": "markdown",
      "source": [
        "# Testing\n",
        "## **Testing2**"
      ],
      "metadata": {
        "id": "NvjNRI_VP3HG"
      }
    },
    {
      "cell_type": "code",
      "source": [
        "nama = \"Stanley Alexsander Tamboto\"\n",
        "nim = 2022071008\n",
        "\n",
        "print(\"Hello World!\")\n",
        "print(\"Nama saya\", nama)\n",
        "print(\"NIM saya\", nim)"
      ],
      "metadata": {
        "colab": {
          "base_uri": "https://localhost:8080/"
        },
        "id": "CWk_5H9EQ8MB",
        "outputId": "8c3e2b5e-ea3a-4b92-f87d-94f86b63bc07"
      },
      "execution_count": null,
      "outputs": [
        {
          "output_type": "stream",
          "name": "stdout",
          "text": [
            "Hello World!\n",
            "Nama saya Stanley Alexsander Tamboto\n",
            "NIM saya 2022071008\n"
          ]
        }
      ]
    },
    {
      "cell_type": "code",
      "source": [
        "if 5>2:\n",
        "  print(\"Five is greater than two!\")"
      ],
      "metadata": {
        "colab": {
          "base_uri": "https://localhost:8080/"
        },
        "id": "41bUsbSYSpfk",
        "outputId": "af05fcbb-c57b-40ed-a713-46a5e5ddf396"
      },
      "execution_count": null,
      "outputs": [
        {
          "output_type": "stream",
          "name": "stdout",
          "text": [
            "Five is greater than two!\n"
          ]
        }
      ]
    },
    {
      "cell_type": "code",
      "source": [
        "x = 5\n",
        "y = \"John\"\n",
        "print(x)\n",
        "print(y)"
      ],
      "metadata": {
        "colab": {
          "base_uri": "https://localhost:8080/"
        },
        "id": "cYdFAWZOTBBE",
        "outputId": "09a2a7c1-6104-47b2-cc27-39478e9b55fb"
      },
      "execution_count": null,
      "outputs": [
        {
          "output_type": "stream",
          "name": "stdout",
          "text": [
            "5\n",
            "John\n"
          ]
        }
      ]
    },
    {
      "cell_type": "code",
      "source": [
        "x = 4\n",
        "x = \"Sally\"\n",
        "print(x)"
      ],
      "metadata": {
        "colab": {
          "base_uri": "https://localhost:8080/"
        },
        "id": "hcFdeOv0TULn",
        "outputId": "e02914e2-2a03-4fd2-a7e7-54ed23af23fc"
      },
      "execution_count": null,
      "outputs": [
        {
          "output_type": "stream",
          "name": "stdout",
          "text": [
            "Sally\n"
          ]
        }
      ]
    },
    {
      "cell_type": "code",
      "source": [
        "def getFirst(myList):\n",
        "  return myList[0]\n",
        "\n",
        "getFirst([1, 2, 3])"
      ],
      "metadata": {
        "colab": {
          "base_uri": "https://localhost:8080/"
        },
        "id": "JtbfZW4WUP3h",
        "outputId": "e26135c4-f7c7-47be-d817-26fdfec41758"
      },
      "execution_count": null,
      "outputs": [
        {
          "output_type": "execute_result",
          "data": {
            "text/plain": [
              "1"
            ]
          },
          "metadata": {},
          "execution_count": 34
        }
      ]
    },
    {
      "cell_type": "code",
      "source": [
        "getFirst([1, 2, 3, 4, 5, 6, 7, 8, 9, 10])"
      ],
      "metadata": {
        "colab": {
          "base_uri": "https://localhost:8080/"
        },
        "id": "tOfwYaLrUlht",
        "outputId": "d78b9c74-bc69-4c88-ebdc-e62c72c94a71"
      },
      "execution_count": null,
      "outputs": [
        {
          "output_type": "execute_result",
          "data": {
            "text/plain": [
              "1"
            ]
          },
          "metadata": {},
          "execution_count": 35
        }
      ]
    },
    {
      "cell_type": "code",
      "source": [
        "def getSecond(myList):\n",
        "  return myList[1]\n",
        "\n",
        "getSecond([1, 2, 3, 4, 5, 6, 7, 8, 9, 10])"
      ],
      "metadata": {
        "colab": {
          "base_uri": "https://localhost:8080/"
        },
        "id": "7aGxG7ENV2C-",
        "outputId": "db8cb314-6770-41fc-9d7d-90a8fd8f12ad"
      },
      "execution_count": null,
      "outputs": [
        {
          "output_type": "execute_result",
          "data": {
            "text/plain": [
              "2"
            ]
          },
          "metadata": {},
          "execution_count": 41
        }
      ]
    },
    {
      "cell_type": "code",
      "source": [
        "def getLast(myList):\n",
        "  # return myList[-1]\n",
        "  return myList[len(myList)-1]\n",
        "\n",
        "getLast([1, 2, 3, 4, 5, 6, 7, 8, 9, 10])"
      ],
      "metadata": {
        "colab": {
          "base_uri": "https://localhost:8080/"
        },
        "id": "5s2Vl3DxV6_5",
        "outputId": "be0f7a29-0db7-4519-d494-bcf6ca9cc2be"
      },
      "execution_count": null,
      "outputs": [
        {
          "output_type": "execute_result",
          "data": {
            "text/plain": [
              "10"
            ]
          },
          "metadata": {},
          "execution_count": 44
        }
      ]
    },
    {
      "cell_type": "code",
      "source": [
        "def getSum(myList):\n",
        "  sum = 0\n",
        "  for item in myList:\n",
        "    sum = sum+item\n",
        "  return sum\n",
        "\n",
        "getSum([1, -2, 3, -4])"
      ],
      "metadata": {
        "colab": {
          "base_uri": "https://localhost:8080/"
        },
        "id": "uZ5wepTGa3r9",
        "outputId": "c6d2b21a-2cdf-47d8-905b-60168b4be559"
      },
      "execution_count": null,
      "outputs": [
        {
          "output_type": "execute_result",
          "data": {
            "text/plain": [
              "-2"
            ]
          },
          "metadata": {},
          "execution_count": 54
        }
      ]
    },
    {
      "cell_type": "code",
      "source": [
        "def getKali(myList):\n",
        "  kali = 1\n",
        "  for item in myList:\n",
        "    kali = kali*item\n",
        "  return kali\n",
        "\n",
        "getKali([-1, -2, -3, 4])"
      ],
      "metadata": {
        "colab": {
          "base_uri": "https://localhost:8080/"
        },
        "id": "Sz_8HFFlb8wq",
        "outputId": "638a71e6-4c66-423d-c9fe-96753e9cb612"
      },
      "execution_count": null,
      "outputs": [
        {
          "output_type": "execute_result",
          "data": {
            "text/plain": [
              "-24"
            ]
          },
          "metadata": {},
          "execution_count": 56
        }
      ]
    },
    {
      "cell_type": "code",
      "source": [
        "def getBagi(myList):\n",
        "  bagi = 1\n",
        "  for item in myList:\n",
        "    bagi = bagi/item\n",
        "  return bagi\n",
        "\n",
        "getBagi([1, -2, 3, 4])"
      ],
      "metadata": {
        "colab": {
          "base_uri": "https://localhost:8080/"
        },
        "id": "GF02xkNjcI0q",
        "outputId": "f6f5849e-3325-423c-8d65-e8a77506a800"
      },
      "execution_count": null,
      "outputs": [
        {
          "output_type": "execute_result",
          "data": {
            "text/plain": [
              "-0.041666666666666664"
            ]
          },
          "metadata": {},
          "execution_count": 66
        }
      ]
    },
    {
      "cell_type": "code",
      "source": [
        "def getAvg(myList):\n",
        "  return getSum(myList) / len(myList)\n",
        "\n",
        "getAvg([1, 2, 3, 4])"
      ],
      "metadata": {
        "colab": {
          "base_uri": "https://localhost:8080/"
        },
        "id": "OdxiO-30kwBe",
        "outputId": "c669beca-b5d2-44d4-8bdf-cc10afeac196"
      },
      "execution_count": null,
      "outputs": [
        {
          "output_type": "execute_result",
          "data": {
            "text/plain": [
              "2.5"
            ]
          },
          "metadata": {},
          "execution_count": 70
        }
      ]
    },
    {
      "cell_type": "code",
      "source": [
        "# def bagi(list_a, list_b):\n",
        "#   result = []\n",
        "#   for first, second in zip(list_a, list_b):\n",
        "#     result.append(first/second)\n",
        "#   return result\n",
        "\n",
        "# bagi([1, 2, 3, 4], [5, 6, 7, 8])\n",
        "\n",
        "def bagi(list_a, list_b):\n",
        "  return getSum(list_a) / getSum(list_b)\n",
        "\n",
        "bagi([1, 2, 3, 4], [5, 6, 7, 8])"
      ],
      "metadata": {
        "colab": {
          "base_uri": "https://localhost:8080/"
        },
        "id": "O9LXmah2ldXS",
        "outputId": "be38a08d-e21c-40e2-a84f-e98a0fa05019"
      },
      "execution_count": null,
      "outputs": [
        {
          "output_type": "execute_result",
          "data": {
            "text/plain": [
              "0.38461538461538464"
            ]
          },
          "metadata": {},
          "execution_count": 76
        }
      ]
    },
    {
      "cell_type": "code",
      "source": [
        "# def kurang(list_a, list_b):\n",
        "#   result = []\n",
        "#   for first, second in zip(list_a, list_b):\n",
        "#     result.append(first-second)\n",
        "#   return result\n",
        "\n",
        "# kurang([1, 2, 3, 4], [5, 6, 7, 8])\n",
        "\n",
        "def kurang(list_a, list_b):\n",
        "  return getSum(list_a) - getSum(list_b)\n",
        "\n",
        "kurang([1, 2, 3, 4], [5, 6, 7, 8])"
      ],
      "metadata": {
        "colab": {
          "base_uri": "https://localhost:8080/"
        },
        "id": "pVBHgqyLmaKZ",
        "outputId": "d7325585-985b-472a-c1f7-f9bde106b6bb"
      },
      "execution_count": null,
      "outputs": [
        {
          "output_type": "execute_result",
          "data": {
            "text/plain": [
              "-16"
            ]
          },
          "metadata": {},
          "execution_count": 75
        }
      ]
    }
  ]
}