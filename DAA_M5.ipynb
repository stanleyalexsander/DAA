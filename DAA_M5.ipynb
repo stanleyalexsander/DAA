{
  "nbformat": 4,
  "nbformat_minor": 0,
  "metadata": {
    "colab": {
      "provenance": []
    },
    "kernelspec": {
      "name": "python3",
      "display_name": "Python 3"
    },
    "language_info": {
      "name": "python"
    }
  },
  "cells": [
    {
      "cell_type": "code",
      "execution_count": 1,
      "metadata": {
        "id": "ICuNUobPPEvn"
      },
      "outputs": [],
      "source": [
        "def divideAndConquer_Max(arr, ind, len):\n",
        "  maximum = -1\n",
        "\n",
        "  if (ind >= len - 2):\n",
        "    if (arr[ind] > arr[ind + 1]):\n",
        "      return arr[ind]\n",
        "    else:\n",
        "      return arr[ind + 1]\n",
        "\n",
        "  maximum = divideAndConquer_Max(arr, ind + 1, len)\n",
        "\n",
        "  if (arr[ind] > maximum):\n",
        "    return arr[ind]\n",
        "  else:\n",
        "    return maximum\n",
        "\n",
        "\n",
        "def divideAndConquer_Min(arr, ind, len):\n",
        "  minimum = 0\n",
        "\n",
        "  if (ind >= len - 2):\n",
        "    if (arr[ind] < arr[ind + 1]):\n",
        "      return arr[ind]\n",
        "    else:\n",
        "      return arr[ind + 1]\n",
        "\n",
        "  minimum = divideAndConquer_Min(arr, ind + 1, len)\n",
        "\n",
        "  if (arr[ind] < minimum):\n",
        "    return arr[ind]\n",
        "  else:\n",
        "    return minimum"
      ]
    },
    {
      "cell_type": "code",
      "source": [
        "if __name__ == \"__main__\":\n",
        "  minimum, maximum = 0, -1\n",
        "\n",
        "  # array initialization\n",
        "  arr = [4, 12, 23, 9, 21, 1, 35, 2, 24]\n",
        "\n",
        "  maximum = divideAndConquer_Max(arr, 0, 9)\n",
        "  minimum = divideAndConquer_Min(arr, 0, 9)\n",
        "\n",
        "  print(\"The minimum number in the array is: \", minimum)\n",
        "  print(\"The maximum number in the array is: \", maximum)"
      ],
      "metadata": {
        "colab": {
          "base_uri": "https://localhost:8080/"
        },
        "id": "MOgs8iYdQG3m",
        "outputId": "534789c4-ecc6-42ab-ec81-552776b300af"
      },
      "execution_count": 4,
      "outputs": [
        {
          "output_type": "stream",
          "name": "stdout",
          "text": [
            "The minimum number in the array is:  1\n",
            "The maximum number in the array is:  35\n"
          ]
        }
      ]
    },
    {
      "cell_type": "code",
      "source": [
        "# MergeSort in Python\n",
        "def mergeSort(array):\n",
        "  if len(array) > 1:\n",
        "    # r is the point where the array is divided into two subarrays\n",
        "    r = len(array) // 2\n",
        "    L = array[:r]\n",
        "    M = array[r:]\n",
        "\n",
        "    # Sort the two halves\n",
        "    mergeSort(L)\n",
        "    mergeSort(M)\n",
        "\n",
        "    i = j = k = 0\n",
        "\n",
        "    # Until we reach either end of either L or M, pick larger amongs\n",
        "    # elements L and M and place them in the correct position at A[p..r]\n",
        "    while i < len(L) and j < len(M):\n",
        "      if L[i] < M[j]:\n",
        "        array[k] = L[i]\n",
        "        i += 1\n",
        "      else:\n",
        "        array[k] = M[j]\n",
        "        j += 1\n",
        "      k += 1\n",
        "\n",
        "    # When we run out of elements in either L or M,\n",
        "    # pick up the remaining elements and put in A[p..r]\n",
        "    while i < len(L):\n",
        "      array[k] = L[i]\n",
        "      i += 1\n",
        "      k += 1\n",
        "\n",
        "    while j < len(M):\n",
        "      array[k] = M[j]\n",
        "      j += 1\n",
        "      k += 1"
      ],
      "metadata": {
        "id": "FFxerYCPW2ut"
      },
      "execution_count": 7,
      "outputs": []
    },
    {
      "cell_type": "code",
      "source": [
        "# Print the array\n",
        "def printList(array):\n",
        "  for i in range(len(array)):\n",
        "    print(array[i], end = \" \")\n",
        "  print()\n",
        "\n",
        "# Driver program\n",
        "if __name__ == \"__main__\":\n",
        "  array = [4, 12, 23, 9, 21, 1, 35, 2, 24]\n",
        "\n",
        "  mergeSort(array)\n",
        "\n",
        "  print(\"Sorted array is: \")\n",
        "  printList(array)"
      ],
      "metadata": {
        "colab": {
          "base_uri": "https://localhost:8080/"
        },
        "id": "L59vjFiVYDMQ",
        "outputId": "bc7e4097-9b73-405b-85b9-b871fa8a5760"
      },
      "execution_count": 8,
      "outputs": [
        {
          "output_type": "stream",
          "name": "stdout",
          "text": [
            "Sorted array is: \n",
            "1 2 4 9 12 21 23 24 35 \n"
          ]
        }
      ]
    },
    {
      "cell_type": "code",
      "source": [
        "# Function to find the partition position\n",
        "def partition(array, low, high):\n",
        "  # choose the rightmost element as pivot\n",
        "  pivot = array[high]\n",
        "\n",
        "  # pointer for greater element\n",
        "  i = low - 1\n",
        "\n",
        "  # traverse through all elements\n",
        "  # compare each element with pivot\n",
        "  for j in range(low, high):\n",
        "    if array[j] <= pivot:\n",
        "      # if element smaller than pivot is found\n",
        "      # swap it with the greater element pointed by i\n",
        "      i = i + 1\n",
        "\n",
        "      # Swapping element at i with element at j\n",
        "      (array[i], array[j]) = (array[j], array[i])\n",
        "\n",
        "  # Swap the pivot element with the greater element specified by i\n",
        "  (array[i + 1], array[high]) = (array[high], array[i + 1])\n",
        "\n",
        "  # Return the position from where partition is done\n",
        "  return i + 1\n",
        "\n",
        "# function to pergorm quicksort\n",
        "def quickSort(array, low, high):\n",
        "  if low < high:\n",
        "    # Find pivot element such that\n",
        "    # element smaller than pivot are on the left\n",
        "    # element greater than pivot are on the right\n",
        "    pi = partition(array, low, high)\n",
        "\n",
        "    # Recursive call on the left of pivot\n",
        "    quickSort(array, low, pi - 1)\n",
        "\n",
        "    # Recursive call on the right of pivot\n",
        "    quickSort(array, pi + 1, high)"
      ],
      "metadata": {
        "id": "P2bHQvEdgUw8"
      },
      "execution_count": 9,
      "outputs": []
    },
    {
      "cell_type": "code",
      "source": [
        "data = [4, 12, 23, 9, 21, 1, 35, 2, 24]\n",
        "print(\"Unsorted Array\")\n",
        "print(data)\n",
        "\n",
        "size = len(data)\n",
        "\n",
        "quickSort(data, 0, size - 1)\n",
        "\n",
        "print(\"Sorted Array in Ascending Order: \")\n",
        "print(data)"
      ],
      "metadata": {
        "colab": {
          "base_uri": "https://localhost:8080/"
        },
        "id": "4aCEx2lvh1x0",
        "outputId": "1327976f-9854-4eb0-c8f0-4a91de9d48d5"
      },
      "execution_count": 10,
      "outputs": [
        {
          "output_type": "stream",
          "name": "stdout",
          "text": [
            "Unsorted Array\n",
            "[4, 12, 23, 9, 21, 1, 35, 2, 24]\n",
            "Sorted Array in Ascending Order: \n",
            "[1, 2, 4, 9, 12, 21, 23, 24, 35]\n"
          ]
        }
      ]
    },
    {
      "cell_type": "code",
      "source": [
        "# Hitung Inversi\n",
        "def countInversion(arr):\n",
        "  result = 0\n",
        "  for i in range(len(arr)):\n",
        "    for j in range(i + 1, len(arr)):\n",
        "      if arr[i] > arr[j]:\n",
        "        result += 1\n",
        "  return result"
      ],
      "metadata": {
        "id": "c_48TPful2kE"
      },
      "execution_count": 12,
      "outputs": []
    },
    {
      "cell_type": "code",
      "source": [
        "arr = [21, 70, 36, 14, 25]\n",
        "result = countInversion(arr)\n",
        "print(result)"
      ],
      "metadata": {
        "colab": {
          "base_uri": "https://localhost:8080/"
        },
        "id": "dAYUFcxzmODr",
        "outputId": "05b40e37-b90d-40f1-83e4-626570036b63"
      },
      "execution_count": 13,
      "outputs": [
        {
          "output_type": "stream",
          "name": "stdout",
          "text": [
            "6\n"
          ]
        }
      ]
    },
    {
      "cell_type": "code",
      "source": [
        "# Hitung inversi dengan divide dan conquer\n",
        "def countInversion(arr):\n",
        "  icount = 0\n",
        "  if len(arr) <= 1:\n",
        "    return icount\n",
        "\n",
        "  mid = len(arr) // 2\n",
        "  left = arr[:mid]\n",
        "  right = arr[mid:]\n",
        "  icount += countInversion(left)\n",
        "  icount += countInversion(right)\n",
        "  i = j = k = 0\n",
        "\n",
        "  while i < len(left) and j < len(right):\n",
        "    if left[i] < right[j]:\n",
        "      arr[k] = left[i]\n",
        "      i += 1\n",
        "    else:\n",
        "      arr[k] = right[j]\n",
        "      j += 1\n",
        "      icount += (mid - i)\n",
        "    k += 1\n",
        "\n",
        "  while i < len(left):\n",
        "    arr[k] = left[i]\n",
        "    i += 1\n",
        "    k += 1\n",
        "\n",
        "  while j < len(right):\n",
        "    arr[k] = right[j]\n",
        "    j += 1\n",
        "    k += 1\n",
        "\n",
        "  return icount"
      ],
      "metadata": {
        "id": "KqcvhoyHoPsj"
      },
      "execution_count": 16,
      "outputs": []
    },
    {
      "cell_type": "code",
      "source": [
        "arr = [1, 20, 6, 4, 5]\n",
        "result = countInversion(arr)\n",
        "print(result)"
      ],
      "metadata": {
        "colab": {
          "base_uri": "https://localhost:8080/"
        },
        "id": "TkLKradopRlE",
        "outputId": "96ae0872-20e2-44f3-9313-817da8d4c324"
      },
      "execution_count": 17,
      "outputs": [
        {
          "output_type": "stream",
          "name": "stdout",
          "text": [
            "5\n"
          ]
        }
      ]
    },
    {
      "cell_type": "code",
      "source": [
        "# Tanpa divide dan conquer\n",
        "\n",
        "def maxSubSum(arr):\n",
        "  max_so_far = 0\n",
        "  max_ending_here = 0\n",
        "  for i in range(len(arr)):\n",
        "    max_ending_here += arr[i]\n",
        "    if max_ending_here > max_so_far:\n",
        "      max_so_far = max_ending_here\n",
        "    if max_ending_here < 0:\n",
        "      max_ending_here = 0\n",
        "  return max_so_far"
      ],
      "metadata": {
        "id": "fOMgBONYr_9-"
      },
      "execution_count": 18,
      "outputs": []
    },
    {
      "cell_type": "code",
      "source": [
        "arr = [-2, -5, 6, -2, -3, 1, 5, -6]\n",
        "result = maxSubSum(arr)\n",
        "print(result)"
      ],
      "metadata": {
        "colab": {
          "base_uri": "https://localhost:8080/"
        },
        "id": "h41SLtlCsaLl",
        "outputId": "5d2964fe-c0b8-459c-806c-d7cb3a63563b"
      },
      "execution_count": 19,
      "outputs": [
        {
          "output_type": "stream",
          "name": "stdout",
          "text": [
            "7\n"
          ]
        }
      ]
    },
    {
      "cell_type": "code",
      "source": [
        "# Menggunakan Divide and Conquer\n",
        "\n",
        "def maxCrossingSum(arr, low, mid, high):\n",
        "  result = 0\n",
        "  leftSum = float('-infinity')\n",
        "  for i in range(mid, low - 1, -1):\n",
        "    result += arr[i]\n",
        "    if result > leftSum:\n",
        "      leftSum = result\n",
        "  result = 0\n",
        "  rightSum = float('-infinity')\n",
        "  for i in range(mid + 1, high + 1):\n",
        "    result += arr[i]\n",
        "    if result > rightSum:\n",
        "      rightSum = result\n",
        "  return leftSum + rightSum\n",
        "\n",
        "def maxSum(arr, low, high):\n",
        "  if low == high:\n",
        "    return arr[low]\n",
        "  mid = (low + high) // 2\n",
        "  return max(maxSum(arr, low, mid), maxSum(arr, mid + 1, high), maxCrossingSum(arr, low, mid, high))"
      ],
      "metadata": {
        "id": "Ul-kqk9_urxK"
      },
      "execution_count": 22,
      "outputs": []
    },
    {
      "cell_type": "code",
      "source": [
        "arr = [-2, -5, 6, -2, -3, 1, 5, -6]\n",
        "result = maxSum(arr, 0, len(arr) - 1)\n",
        "print(result)"
      ],
      "metadata": {
        "colab": {
          "base_uri": "https://localhost:8080/"
        },
        "id": "5IMfu_lovjLY",
        "outputId": "86f0d468-b1db-4e21-e614-e58e500a1fc5"
      },
      "execution_count": 23,
      "outputs": [
        {
          "output_type": "stream",
          "name": "stdout",
          "text": [
            "7\n"
          ]
        }
      ]
    },
    {
      "cell_type": "code",
      "source": [
        "def longestCommonPrefix(a):\n",
        "  size = len(a)\n",
        "  # if size is 0, return empty string\n",
        "  if (size == 0):\n",
        "    return \"\"\n",
        "\n",
        "  if (size == 1):\n",
        "    return a[0]\n",
        "\n",
        "  # sort the array of strings\n",
        "  a.sort()\n",
        "\n",
        "  # find the minimum length from\n",
        "  # first and last string\n",
        "  end = min(len(a[0]), len(a[size - 1]))\n",
        "\n",
        "  # find the common prefix between\n",
        "  # the first and last string\n",
        "  i = 0\n",
        "  while (i < end and a[0][i] == a[size - 1][i]):\n",
        "    i += 1\n",
        "\n",
        "  pre = a[0][0:i]\n",
        "  return pre"
      ],
      "metadata": {
        "id": "5vV4Pn_Gv43c"
      },
      "execution_count": 24,
      "outputs": []
    },
    {
      "cell_type": "code",
      "source": [
        "arr = [\"geeksforgeeks\", \"geeks\", \"geek\", \"geezer\"]\n",
        "result = longestCommonPrefix(arr)\n",
        "print(result)"
      ],
      "metadata": {
        "colab": {
          "base_uri": "https://localhost:8080/"
        },
        "id": "qZD5ZwCrylng",
        "outputId": "2bc2a00c-f7c8-4159-a414-bb56a1c1a993"
      },
      "execution_count": 25,
      "outputs": [
        {
          "output_type": "stream",
          "name": "stdout",
          "text": [
            "gee\n"
          ]
        }
      ]
    },
    {
      "cell_type": "code",
      "source": [
        "arr = [\"apple\", \"ape\", \"april\"]\n",
        "result = longestCommonPrefix(arr)\n",
        "print(result)"
      ],
      "metadata": {
        "colab": {
          "base_uri": "https://localhost:8080/"
        },
        "id": "XdHkOTc4yvOJ",
        "outputId": "86c51690-d72a-443c-8966-9e86f70aad3e"
      },
      "execution_count": 26,
      "outputs": [
        {
          "output_type": "stream",
          "name": "stdout",
          "text": [
            "ap\n"
          ]
        }
      ]
    },
    {
      "cell_type": "code",
      "source": [
        "# Median dari dua array dengan divide dan conquer\n",
        "def medianOfArray(arr1, arr2, n):\n",
        "  m1 = -1 # first number\n",
        "  m2 = -1 # second number\n",
        "  count = 0\n",
        "  i = j = 0\n",
        "  while count < n + 1:\n",
        "    count += 1\n",
        "    if i == n: # i == 5 index error if arr1[i] < arr2[j] is checked\n",
        "      m1 = m2\n",
        "      m2 = arr2[0]\n",
        "      break\n",
        "    if j == n:\n",
        "      m1 = m2\n",
        "      m2 = arr1[0]\n",
        "      break\n",
        "    if arr1[i] < arr2[j]:\n",
        "      m1 = m2\n",
        "      m2 = arr1[i]\n",
        "      i += 1\n",
        "    else:\n",
        "      m1 = m2\n",
        "      m2 = arr2[j]\n",
        "      j += 1\n",
        "  return (m1 + m2) // 2"
      ],
      "metadata": {
        "id": "dmX3IE1ly3c2"
      },
      "execution_count": 27,
      "outputs": []
    },
    {
      "cell_type": "code",
      "source": [
        "arr1 = [1, 12, 15, 26, 38]\n",
        "arr2 = [2, 13, 17, 30, 45]\n",
        "print(medianOfArray(arr1, arr2, len(arr1)))"
      ],
      "metadata": {
        "colab": {
          "base_uri": "https://localhost:8080/"
        },
        "id": "2_bCSM8ozx-W",
        "outputId": "8aa6cb3e-980f-4907-ab13-86d3b41dbbb8"
      },
      "execution_count": 28,
      "outputs": [
        {
          "output_type": "stream",
          "name": "stdout",
          "text": [
            "16\n"
          ]
        }
      ]
    },
    {
      "cell_type": "code",
      "source": [
        "def Solution(arr):\n",
        "  n = len(arr)\n",
        "  # if length of array is even\n",
        "  if n % 2 == 0:\n",
        "    z = n // 2\n",
        "    e = arr[z]\n",
        "    q = arr[z - 1]\n",
        "    ans = (e + q) / 2\n",
        "    return ans\n",
        "  # if length of array is odd\n",
        "  else:\n",
        "    z = n // 2\n",
        "    ans = arr[z]\n",
        "    return ans"
      ],
      "metadata": {
        "id": "phyn_ZYz0CPb"
      },
      "execution_count": 29,
      "outputs": []
    },
    {
      "cell_type": "code",
      "source": [
        "arr1 = [-5, 3, 6, 12, 15]\n",
        "arr2 = [-12, -10, -6, -3, 4, 10]\n",
        "# Concatenating the two arrays\n",
        "arr3 = arr1 + arr2\n",
        "# Sorting the resultant array\n",
        "arr3.sort()\n",
        "print(\"Median =\", Solution(arr3))"
      ],
      "metadata": {
        "colab": {
          "base_uri": "https://localhost:8080/"
        },
        "id": "imeXwJ8E0azX",
        "outputId": "bc14ebb7-3309-47e4-d290-4ef8d1f0b5d2"
      },
      "execution_count": 30,
      "outputs": [
        {
          "output_type": "stream",
          "name": "stdout",
          "text": [
            "Median = 3\n"
          ]
        }
      ]
    },
    {
      "cell_type": "code",
      "source": [
        "# Floor in sorted array\n",
        "def floorSorted(arr, low, high, x):\n",
        "  if low > high:\n",
        "    return -1\n",
        "  if arr[low] > x:\n",
        "    return -1\n",
        "  if arr[high] <= x:\n",
        "    return arr[high]\n",
        "\n",
        "  mid = (low + high) // 2\n",
        "\n",
        "  if arr[mid] == x:\n",
        "    return arr[mid]\n",
        "  if mid > 0 and x >= arr[mid - 1] and arr[mid] > x:\n",
        "    return arr[mid - 1]\n",
        "  if mid < high and x < arr[mid + 1] and x >= arr[mid]:\n",
        "    return arr[mid]\n",
        "  if x > arr[mid]:\n",
        "    return floorSorted(arr, mid + 1, high, x)\n",
        "  else:\n",
        "    return floorSorted(arr, low, mid - 1, x)"
      ],
      "metadata": {
        "id": "dZvNfoUV0tSc"
      },
      "execution_count": 31,
      "outputs": []
    },
    {
      "cell_type": "code",
      "source": [
        "arr = [1, 2, 8, 10, 12, 14, 19]\n",
        "x = 5\n",
        "print(floorSorted(arr, 0, len(arr) - 1, x))"
      ],
      "metadata": {
        "colab": {
          "base_uri": "https://localhost:8080/"
        },
        "id": "0oJ0qv9p1chu",
        "outputId": "480992e6-0549-4d14-9e10-c5871687233f"
      },
      "execution_count": 32,
      "outputs": [
        {
          "output_type": "stream",
          "name": "stdout",
          "text": [
            "2\n"
          ]
        }
      ]
    },
    {
      "cell_type": "code",
      "source": [
        "# Mencari nilai terdekat degan metode divide dan conquer\n",
        "def closestNumber(arr, low, high, x):\n",
        "  if low > high:\n",
        "    return -1\n",
        "  if arr[high] <= x:\n",
        "    return arr[high]\n",
        "  if arr[low] >= x:\n",
        "    return arr[low]\n",
        "  mid = (low + high) // 2\n",
        "  if arr[mid] == x:\n",
        "    return arr[mid]\n",
        "\n",
        "  abs_mid = abs(arr[mid] - x)\n",
        "\n",
        "  if mid > 0:\n",
        "    abs_left = abs(arr[mid - 1] - x)\n",
        "    if abs_left < abs_mid:\n",
        "      return closestNumber(arr, low, mid - 1, x)\n",
        "  if mid < high:\n",
        "    abs_right = abs(arr[mid + 1] - x)\n",
        "    if abs_right < abs_mid:\n",
        "      return closestNumber(arr, mid + 1, high, x)\n",
        "  return arr[mid]"
      ],
      "metadata": {
        "id": "7rA2Hx3L1n5h"
      },
      "execution_count": 36,
      "outputs": []
    },
    {
      "cell_type": "code",
      "source": [
        "arr = [2, 5, 6, 7, 8, 8, 9]\n",
        "x = 9\n",
        "print(closestNumber(arr, 0, len(arr) - 1, x))"
      ],
      "metadata": {
        "colab": {
          "base_uri": "https://localhost:8080/"
        },
        "id": "szXECknT2je2",
        "outputId": "eb9cc4b3-d643-4b6e-b310-951789b8c37c"
      },
      "execution_count": 37,
      "outputs": [
        {
          "output_type": "stream",
          "name": "stdout",
          "text": [
            "9\n"
          ]
        }
      ]
    },
    {
      "cell_type": "code",
      "source": [
        "def find_closest(lst, k):\n",
        "  lst.sort()\n",
        "  closest_num = lst[0]\n",
        "  for num in lst:\n",
        "    if abs(num - k) < abs(closest_num - k):\n",
        "      closest_num = num\n",
        "    if num > k:\n",
        "      break\n",
        "  return closest_num"
      ],
      "metadata": {
        "id": "0frPF0ms2sm_"
      },
      "execution_count": 38,
      "outputs": []
    },
    {
      "cell_type": "code",
      "source": [
        "lst = [3.64, 5.2, 9.42, 9.35, 8.5, 8]\n",
        "k = 9.1\n",
        "print(find_closest(lst, k))"
      ],
      "metadata": {
        "colab": {
          "base_uri": "https://localhost:8080/"
        },
        "id": "Pm3wJgSP3CnU",
        "outputId": "8ed1e776-0034-4c73-8ae4-0221e2271c3e"
      },
      "execution_count": 39,
      "outputs": [
        {
          "output_type": "stream",
          "name": "stdout",
          "text": [
            "9.35\n"
          ]
        }
      ]
    },
    {
      "cell_type": "code",
      "source": [
        "lst = [2, 5, 5, 7, 8, 8, 9]\n",
        "k = 6\n",
        "print(find_closest(lst, k))"
      ],
      "metadata": {
        "colab": {
          "base_uri": "https://localhost:8080/"
        },
        "id": "SAPYt_KX3LtY",
        "outputId": "1f8518df-0840-48c4-a85b-ac793190e794"
      },
      "execution_count": 40,
      "outputs": [
        {
          "output_type": "stream",
          "name": "stdout",
          "text": [
            "5\n"
          ]
        }
      ]
    },
    {
      "cell_type": "code",
      "source": [
        "# Mencari fixed point dengan metode divide dan conquer\n",
        "\n",
        "def fixedPoint(arr, low, high):\n",
        "  if low > high:\n",
        "    return -1\n",
        "  if arr[high] == high:\n",
        "    return arr[high]\n",
        "  if arr[low] == low:\n",
        "    return arr[low]\n",
        "  mid = (low + high) // 2\n",
        "  if arr[mid] == mid:\n",
        "    return arr[mid]\n",
        "  if mid > arr[mid]:\n",
        "    return fixedPoint(arr, mid + 1, high)\n",
        "  else:\n",
        "    return fixedPoint(arr, low, mid - 1)"
      ],
      "metadata": {
        "id": "nsGyhT0A3UWc"
      },
      "execution_count": 41,
      "outputs": []
    },
    {
      "cell_type": "code",
      "source": [
        "arr = [9, 1, 4, 5, 2]\n",
        "print(fixedPoint(arr, 0, len(arr) - 1))"
      ],
      "metadata": {
        "colab": {
          "base_uri": "https://localhost:8080/"
        },
        "id": "BKS7Q9Kl33BP",
        "outputId": "1d36977a-9b86-4152-e966-0b162aa7a0d8"
      },
      "execution_count": 42,
      "outputs": [
        {
          "output_type": "stream",
          "name": "stdout",
          "text": [
            "1\n"
          ]
        }
      ]
    }
  ]
}